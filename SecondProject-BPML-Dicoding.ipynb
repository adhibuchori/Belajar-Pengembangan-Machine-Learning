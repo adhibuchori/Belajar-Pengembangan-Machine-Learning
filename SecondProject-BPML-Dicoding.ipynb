{
  "cells": [
    {
      "cell_type": "markdown",
      "metadata": {
        "id": "-BtdS7BcdfRz"
      },
      "source": [
        "**Data Source**  \n",
        "https://www.kaggle.com/code/msripooja/hourly-energy-consumption-time-series-rnn-lstm/notebook"
      ]
    },
    {
      "cell_type": "markdown",
      "source": [
        "Meng-*import library* python yang dibutuhkan."
      ],
      "metadata": {
        "id": "wto5QzufyPgS"
      }
    },
    {
      "cell_type": "code",
      "execution_count": 19,
      "metadata": {
        "id": "1GI62dLhdst9"
      },
      "outputs": [],
      "source": [
        "# Dataframe\n",
        "import pandas as pd\n",
        "import numpy as np\n",
        "\n",
        "# Split Data\n",
        "from sklearn.model_selection import train_test_split\n",
        "\n",
        "# Preprocessing dan Layer\n",
        "import sklearn.preprocessing\n",
        "import tensorflow as tf\n",
        "from keras.models import Sequential\n",
        "from keras.layers import LSTM, Dense, Bidirectional, Dropout\n",
        "from sklearn.metrics import r2_score\n",
        "\n",
        "# Visualisasi Plot\n",
        "import matplotlib.pyplot as plt\n",
        "from plotly import graph_objs as go"
      ]
    },
    {
      "cell_type": "markdown",
      "source": [
        "Membaca dan menampilkan dataset."
      ],
      "metadata": {
        "id": "7huLS4KhyTqa"
      }
    },
    {
      "cell_type": "code",
      "execution_count": 2,
      "metadata": {
        "colab": {
          "base_uri": "https://localhost:8080/",
          "height": 423
        },
        "id": "kXFstQpbeK5P",
        "outputId": "956de9da-46f4-46ef-9713-2e9e4fad00fd"
      },
      "outputs": [
        {
          "output_type": "execute_result",
          "data": {
            "text/plain": [
              "                   Datetime   AEP_MW\n",
              "0       2004-12-31 01:00:00  13478.0\n",
              "1       2004-12-31 02:00:00  12865.0\n",
              "2       2004-12-31 03:00:00  12577.0\n",
              "3       2004-12-31 04:00:00  12517.0\n",
              "4       2004-12-31 05:00:00  12670.0\n",
              "...                     ...      ...\n",
              "121268  2018-01-01 20:00:00  21089.0\n",
              "121269  2018-01-01 21:00:00  20999.0\n",
              "121270  2018-01-01 22:00:00  20820.0\n",
              "121271  2018-01-01 23:00:00  20415.0\n",
              "121272  2018-01-02 00:00:00  19993.0\n",
              "\n",
              "[121273 rows x 2 columns]"
            ],
            "text/html": [
              "\n",
              "  <div id=\"df-13e8f031-8845-460b-b51c-1445d3811e24\">\n",
              "    <div class=\"colab-df-container\">\n",
              "      <div>\n",
              "<style scoped>\n",
              "    .dataframe tbody tr th:only-of-type {\n",
              "        vertical-align: middle;\n",
              "    }\n",
              "\n",
              "    .dataframe tbody tr th {\n",
              "        vertical-align: top;\n",
              "    }\n",
              "\n",
              "    .dataframe thead th {\n",
              "        text-align: right;\n",
              "    }\n",
              "</style>\n",
              "<table border=\"1\" class=\"dataframe\">\n",
              "  <thead>\n",
              "    <tr style=\"text-align: right;\">\n",
              "      <th></th>\n",
              "      <th>Datetime</th>\n",
              "      <th>AEP_MW</th>\n",
              "    </tr>\n",
              "  </thead>\n",
              "  <tbody>\n",
              "    <tr>\n",
              "      <th>0</th>\n",
              "      <td>2004-12-31 01:00:00</td>\n",
              "      <td>13478.0</td>\n",
              "    </tr>\n",
              "    <tr>\n",
              "      <th>1</th>\n",
              "      <td>2004-12-31 02:00:00</td>\n",
              "      <td>12865.0</td>\n",
              "    </tr>\n",
              "    <tr>\n",
              "      <th>2</th>\n",
              "      <td>2004-12-31 03:00:00</td>\n",
              "      <td>12577.0</td>\n",
              "    </tr>\n",
              "    <tr>\n",
              "      <th>3</th>\n",
              "      <td>2004-12-31 04:00:00</td>\n",
              "      <td>12517.0</td>\n",
              "    </tr>\n",
              "    <tr>\n",
              "      <th>4</th>\n",
              "      <td>2004-12-31 05:00:00</td>\n",
              "      <td>12670.0</td>\n",
              "    </tr>\n",
              "    <tr>\n",
              "      <th>...</th>\n",
              "      <td>...</td>\n",
              "      <td>...</td>\n",
              "    </tr>\n",
              "    <tr>\n",
              "      <th>121268</th>\n",
              "      <td>2018-01-01 20:00:00</td>\n",
              "      <td>21089.0</td>\n",
              "    </tr>\n",
              "    <tr>\n",
              "      <th>121269</th>\n",
              "      <td>2018-01-01 21:00:00</td>\n",
              "      <td>20999.0</td>\n",
              "    </tr>\n",
              "    <tr>\n",
              "      <th>121270</th>\n",
              "      <td>2018-01-01 22:00:00</td>\n",
              "      <td>20820.0</td>\n",
              "    </tr>\n",
              "    <tr>\n",
              "      <th>121271</th>\n",
              "      <td>2018-01-01 23:00:00</td>\n",
              "      <td>20415.0</td>\n",
              "    </tr>\n",
              "    <tr>\n",
              "      <th>121272</th>\n",
              "      <td>2018-01-02 00:00:00</td>\n",
              "      <td>19993.0</td>\n",
              "    </tr>\n",
              "  </tbody>\n",
              "</table>\n",
              "<p>121273 rows × 2 columns</p>\n",
              "</div>\n",
              "      <button class=\"colab-df-convert\" onclick=\"convertToInteractive('df-13e8f031-8845-460b-b51c-1445d3811e24')\"\n",
              "              title=\"Convert this dataframe to an interactive table.\"\n",
              "              style=\"display:none;\">\n",
              "        \n",
              "  <svg xmlns=\"http://www.w3.org/2000/svg\" height=\"24px\"viewBox=\"0 0 24 24\"\n",
              "       width=\"24px\">\n",
              "    <path d=\"M0 0h24v24H0V0z\" fill=\"none\"/>\n",
              "    <path d=\"M18.56 5.44l.94 2.06.94-2.06 2.06-.94-2.06-.94-.94-2.06-.94 2.06-2.06.94zm-11 1L8.5 8.5l.94-2.06 2.06-.94-2.06-.94L8.5 2.5l-.94 2.06-2.06.94zm10 10l.94 2.06.94-2.06 2.06-.94-2.06-.94-.94-2.06-.94 2.06-2.06.94z\"/><path d=\"M17.41 7.96l-1.37-1.37c-.4-.4-.92-.59-1.43-.59-.52 0-1.04.2-1.43.59L10.3 9.45l-7.72 7.72c-.78.78-.78 2.05 0 2.83L4 21.41c.39.39.9.59 1.41.59.51 0 1.02-.2 1.41-.59l7.78-7.78 2.81-2.81c.8-.78.8-2.07 0-2.86zM5.41 20L4 18.59l7.72-7.72 1.47 1.35L5.41 20z\"/>\n",
              "  </svg>\n",
              "      </button>\n",
              "      \n",
              "  <style>\n",
              "    .colab-df-container {\n",
              "      display:flex;\n",
              "      flex-wrap:wrap;\n",
              "      gap: 12px;\n",
              "    }\n",
              "\n",
              "    .colab-df-convert {\n",
              "      background-color: #E8F0FE;\n",
              "      border: none;\n",
              "      border-radius: 50%;\n",
              "      cursor: pointer;\n",
              "      display: none;\n",
              "      fill: #1967D2;\n",
              "      height: 32px;\n",
              "      padding: 0 0 0 0;\n",
              "      width: 32px;\n",
              "    }\n",
              "\n",
              "    .colab-df-convert:hover {\n",
              "      background-color: #E2EBFA;\n",
              "      box-shadow: 0px 1px 2px rgba(60, 64, 67, 0.3), 0px 1px 3px 1px rgba(60, 64, 67, 0.15);\n",
              "      fill: #174EA6;\n",
              "    }\n",
              "\n",
              "    [theme=dark] .colab-df-convert {\n",
              "      background-color: #3B4455;\n",
              "      fill: #D2E3FC;\n",
              "    }\n",
              "\n",
              "    [theme=dark] .colab-df-convert:hover {\n",
              "      background-color: #434B5C;\n",
              "      box-shadow: 0px 1px 3px 1px rgba(0, 0, 0, 0.15);\n",
              "      filter: drop-shadow(0px 1px 2px rgba(0, 0, 0, 0.3));\n",
              "      fill: #FFFFFF;\n",
              "    }\n",
              "  </style>\n",
              "\n",
              "      <script>\n",
              "        const buttonEl =\n",
              "          document.querySelector('#df-13e8f031-8845-460b-b51c-1445d3811e24 button.colab-df-convert');\n",
              "        buttonEl.style.display =\n",
              "          google.colab.kernel.accessAllowed ? 'block' : 'none';\n",
              "\n",
              "        async function convertToInteractive(key) {\n",
              "          const element = document.querySelector('#df-13e8f031-8845-460b-b51c-1445d3811e24');\n",
              "          const dataTable =\n",
              "            await google.colab.kernel.invokeFunction('convertToInteractive',\n",
              "                                                     [key], {});\n",
              "          if (!dataTable) return;\n",
              "\n",
              "          const docLinkHtml = 'Like what you see? Visit the ' +\n",
              "            '<a target=\"_blank\" href=https://colab.research.google.com/notebooks/data_table.ipynb>data table notebook</a>'\n",
              "            + ' to learn more about interactive tables.';\n",
              "          element.innerHTML = '';\n",
              "          dataTable['output_type'] = 'display_data';\n",
              "          await google.colab.output.renderOutput(dataTable, element);\n",
              "          const docLink = document.createElement('div');\n",
              "          docLink.innerHTML = docLinkHtml;\n",
              "          element.appendChild(docLink);\n",
              "        }\n",
              "      </script>\n",
              "    </div>\n",
              "  </div>\n",
              "  "
            ]
          },
          "metadata": {},
          "execution_count": 2
        }
      ],
      "source": [
        "df = pd.read_csv('AEP_hourly.csv')\n",
        "df"
      ]
    },
    {
      "cell_type": "markdown",
      "source": [
        "Melakukan pengecekan keberadaan *missing values* pada dataset"
      ],
      "metadata": {
        "id": "ke7gRNMRyYQY"
      }
    },
    {
      "cell_type": "code",
      "execution_count": 3,
      "metadata": {
        "colab": {
          "base_uri": "https://localhost:8080/"
        },
        "id": "GstnAhSx-35-",
        "outputId": "cce00fc2-b5a8-44a9-f719-53a977307e1b"
      },
      "outputs": [
        {
          "output_type": "execute_result",
          "data": {
            "text/plain": [
              "Datetime    0\n",
              "AEP_MW      0\n",
              "dtype: int64"
            ]
          },
          "metadata": {},
          "execution_count": 3
        }
      ],
      "source": [
        "df.isnull().sum()"
      ]
    },
    {
      "cell_type": "markdown",
      "source": [
        "Melakukan proses normalisasi terhadap dataset dengan menggunakan fungsi `MinMaxScaler()` guna mengubah nilai-nilai dari sebuah fitur ke dalam skala yang sama."
      ],
      "metadata": {
        "id": "7zdFkZMWy1Cg"
      }
    },
    {
      "cell_type": "code",
      "source": [
        "def normalize_data(df):\n",
        "    scaler = sklearn.preprocessing.MinMaxScaler()\n",
        "    df['AEP_MW']=scaler.fit_transform(df['AEP_MW'].values.reshape(-1,1))\n",
        "    return df\n",
        "\n",
        "df_norm = normalize_data(df)\n",
        "df_norm.shape"
      ],
      "metadata": {
        "colab": {
          "base_uri": "https://localhost:8080/"
        },
        "id": "q24Ih44nrrUa",
        "outputId": "760d8d68-eff6-4540-9bad-dad866cf0e63"
      },
      "execution_count": 4,
      "outputs": [
        {
          "output_type": "execute_result",
          "data": {
            "text/plain": [
              "(121273, 2)"
            ]
          },
          "metadata": {},
          "execution_count": 4
        }
      ]
    },
    {
      "cell_type": "markdown",
      "source": [
        "Melakukan *plotting* grafik terhadap dataframe setelah normalisasi."
      ],
      "metadata": {
        "id": "uh9aFRLV0HF3"
      }
    },
    {
      "cell_type": "code",
      "source": [
        "df_norm.plot(figsize=(16,4),legend=True)\n",
        "plt.title('American Electric Power (AEP) estimated energy consumption in Megawatts (MW) hourly power consumption data after Normalization')\n",
        "plt.show()"
      ],
      "metadata": {
        "colab": {
          "base_uri": "https://localhost:8080/",
          "height": 281
        },
        "id": "uHgJ6Oxqr-Xx",
        "outputId": "486b6c0c-0972-4a16-8993-e5d0852abc19"
      },
      "execution_count": 6,
      "outputs": [
        {
          "output_type": "display_data",
          "data": {
            "text/plain": [
              "<Figure size 1152x288 with 1 Axes>"
            ],
            "image/png": "[encoded data removed]"
          },
          "metadata": {
            "needs_background": "light"
          }
        }
      ]
    },
    {
      "cell_type": "markdown",
      "source": [
        "Melakukan pengecekan bentuk data."
      ],
      "metadata": {
        "id": "sFkZ5U140lsl"
      }
    },
    {
      "cell_type": "code",
      "source": [
        "df_norm.shape"
      ],
      "metadata": {
        "colab": {
          "base_uri": "https://localhost:8080/"
        },
        "id": "RJip1HvHsGIT",
        "outputId": "c91cc4d6-35d0-4239-fd90-b26c97b27bf2"
      },
      "execution_count": 7,
      "outputs": [
        {
          "output_type": "execute_result",
          "data": {
            "text/plain": [
              "(121273, 2)"
            ]
          },
          "metadata": {},
          "execution_count": 7
        }
      ]
    },
    {
      "cell_type": "markdown",
      "source": [
        "Mengubah nilai-nilai pada dataframe ke dalam tipe data numpy array menggunakan atribut values agar data dapat diproses oleh model."
      ],
      "metadata": {
        "id": "ZmNtVp8c0ren"
      }
    },
    {
      "cell_type": "code",
      "execution_count": 8,
      "metadata": {
        "id": "XV9jYpLZgvYO"
      },
      "outputs": [],
      "source": [
        "dates = df['Datetime'].values\n",
        "aep = df['AEP_MW'].values"
      ]
    },
    {
      "cell_type": "markdown",
      "source": [
        "Melakukan pengecekan tipe data masing-masing kolom pada dataframe."
      ],
      "metadata": {
        "id": "WUuJwSxU0slF"
      }
    },
    {
      "cell_type": "code",
      "execution_count": 9,
      "metadata": {
        "colab": {
          "base_uri": "https://localhost:8080/"
        },
        "id": "HofeTXdc-C5N",
        "outputId": "8769da93-087d-440f-cb83-bb006b1f3bc3"
      },
      "outputs": [
        {
          "output_type": "execute_result",
          "data": {
            "text/plain": [
              "Datetime     object\n",
              "AEP_MW      float64\n",
              "dtype: object"
            ]
          },
          "metadata": {},
          "execution_count": 9
        }
      ],
      "source": [
        "df.dtypes"
      ]
    },
    {
      "cell_type": "markdown",
      "source": [
        "Membagi dataset menjadi train set dan validation set dengan ukuran masing-masing 80% dan 20%."
      ],
      "metadata": {
        "id": "invh-ep21C1M"
      }
    },
    {
      "cell_type": "code",
      "execution_count": 10,
      "metadata": {
        "id": "qtMnj9r9h1vE"
      },
      "outputs": [],
      "source": [
        "x_train, x_valid, y_train, y_valid = train_test_split(aep, dates, train_size=0.8, test_size=0.2, shuffle=False )"
      ]
    },
    {
      "cell_type": "code",
      "execution_count": 11,
      "metadata": {
        "colab": {
          "base_uri": "https://localhost:8080/"
        },
        "id": "qgNeTbsViI_c",
        "outputId": "4f354c4b-2694-4603-9d1f-c3899642cedc"
      },
      "outputs": [
        {
          "output_type": "stream",
          "name": "stdout",
          "text": [
            "Total Data Train :  97018\n",
            "Total Data Validation :  24255\n"
          ]
        }
      ],
      "source": [
        "print('Total Data Train : ',len(x_train))\n",
        "print('Total Data Validation : ',len(x_valid))"
      ]
    },
    {
      "cell_type": "markdown",
      "source": [
        "Membuat fungsi `windowed_dataset` untuk menerima sebuah series/atribut kita yang telah di konversi menjadi tipe numpy, lalu mengembalikan label dan atribut dari dataset dalam bentuk batch."
      ],
      "metadata": {
        "id": "1KlQ-Z0U1QKj"
      }
    },
    {
      "cell_type": "code",
      "execution_count": 12,
      "metadata": {
        "id": "uD8eUrRoiMsa"
      },
      "outputs": [],
      "source": [
        "def windowed_dataset(series, window_size, batch_size, shuffle_buffer):\n",
        "  series = tf.expand_dims(series, axis=-1)\n",
        "  ds = tf.data.Dataset.from_tensor_slices(series)\n",
        "  ds = ds.window(window_size + 1, shift=1, drop_remainder=True)\n",
        "  ds = ds.flat_map(lambda w: w.batch(window_size + 1))\n",
        "  ds = ds.shuffle(shuffle_buffer)\n",
        "  ds = ds.map(lambda w: (w[:-1], w[-1:]))\n",
        "  return ds.batch(batch_size).prefetch(1)"
      ]
    },
    {
      "cell_type": "markdown",
      "source": [
        "Membuat arsitektur model dengan menggunakan gunakan 2 buah layer `Bidirectional LSTM` yang dilengkapi dengan `dropout` guna mencegah *overfitting*. "
      ],
      "metadata": {
        "id": "maKOR-T61uAp"
      }
    },
    {
      "cell_type": "code",
      "execution_count": 15,
      "metadata": {
        "id": "89eIfTC8iQpp"
      },
      "outputs": [],
      "source": [
        "train_set = windowed_dataset(x_train, window_size=60, batch_size=200, shuffle_buffer=1000)\n",
        "val_set = windowed_dataset(x_valid, window_size=60, batch_size=200, shuffle_buffer=1000)\n",
        "\n",
        "model = tf.keras.models.Sequential([\n",
        "                                    Bidirectional(tf.keras.layers.LSTM(60, return_sequences=True)),\n",
        "                                    Bidirectional(tf.keras.layers.LSTM(60, dropout=0.2)),\n",
        "                                    Dense(16, activation=\"relu\"),\n",
        "                                    Dropout(0.2),\n",
        "                                    Dense(8, activation=\"relu\"),\n",
        "                                    Dense(1),\n",
        "])"
      ]
    },
    {
      "cell_type": "markdown",
      "source": [
        "Melakukan pengecekan nilai MAE dari model < 10% skala data."
      ],
      "metadata": {
        "id": "e9v2OCHE2W3I"
      }
    },
    {
      "cell_type": "code",
      "execution_count": 16,
      "metadata": {
        "colab": {
          "base_uri": "https://localhost:8080/"
        },
        "id": "ZfVVuyAwiXV8",
        "outputId": "62d986c7-48a9-4af7-ebd2-a3b3e5179e6b"
      },
      "outputs": [
        {
          "output_type": "stream",
          "name": "stdout",
          "text": [
            "0.09999999999999998\n"
          ]
        }
      ],
      "source": [
        "minMae = (df['AEP_MW'].max() - df['AEP_MW'].min()) * 10/100\n",
        "print(minMae)"
      ]
    },
    {
      "cell_type": "code",
      "execution_count": 17,
      "metadata": {
        "id": "hF97UuRhiduH"
      },
      "outputs": [],
      "source": [
        "class myCallback(tf.keras.callbacks.Callback):\n",
        "  def on_epoch_end(self, epoch, logs={}):\n",
        "    if(logs.get('mae') < minMae and logs.get('val_mae') < minMae):\n",
        "      print(\"\\MAE dari model < 10% skala data\")\n",
        "      self.model.stop_training = True\n",
        "callbacks = myCallback()"
      ]
    },
    {
      "cell_type": "code",
      "execution_count": 24,
      "metadata": {
        "colab": {
          "base_uri": "https://localhost:8080/"
        },
        "id": "ptTGmr5Ri2Lh",
        "outputId": "9c1deb65-c757-41da-c17e-9b4359c19e7b"
      },
      "outputs": [
        {
          "output_type": "stream",
          "name": "stdout",
          "text": [
            "Epoch 1/100\n",
            "485/485 [==============================] - 38s 52ms/step - loss: 0.0338 - mae: 0.2098 - val_loss: 0.0121 - val_mae: 0.1218\n",
            "Epoch 2/100\n",
            "485/485 [==============================] - 22s 44ms/step - loss: 0.0142 - mae: 0.1336 - val_loss: 0.0111 - val_mae: 0.1204\n",
            "Epoch 3/100\n",
            "485/485 [==============================] - 22s 45ms/step - loss: 0.0130 - mae: 0.1286 - val_loss: 0.0111 - val_mae: 0.1214\n",
            "Epoch 4/100\n",
            "485/485 [==============================] - 22s 45ms/step - loss: 0.0127 - mae: 0.1271 - val_loss: 0.0111 - val_mae: 0.1211\n",
            "Epoch 5/100\n",
            "485/485 [==============================] - 22s 45ms/step - loss: 0.0125 - mae: 0.1259 - val_loss: 0.0109 - val_mae: 0.1205\n",
            "Epoch 6/100\n",
            "485/485 [==============================] - 22s 45ms/step - loss: 0.0123 - mae: 0.1250 - val_loss: 0.0109 - val_mae: 0.1200\n",
            "Epoch 7/100\n",
            "485/485 [==============================] - 22s 45ms/step - loss: 0.0121 - mae: 0.1241 - val_loss: 0.0108 - val_mae: 0.1196\n",
            "Epoch 8/100\n",
            "485/485 [==============================] - 22s 45ms/step - loss: 0.0120 - mae: 0.1237 - val_loss: 0.0107 - val_mae: 0.1192\n",
            "Epoch 9/100\n",
            "485/485 [==============================] - 22s 45ms/step - loss: 0.0118 - mae: 0.1229 - val_loss: 0.0107 - val_mae: 0.1189\n",
            "Epoch 10/100\n",
            "485/485 [==============================] - 22s 45ms/step - loss: 0.0117 - mae: 0.1222 - val_loss: 0.0106 - val_mae: 0.1185\n",
            "Epoch 11/100\n",
            "485/485 [==============================] - 22s 45ms/step - loss: 0.0116 - mae: 0.1216 - val_loss: 0.0106 - val_mae: 0.1181\n",
            "Epoch 12/100\n",
            "485/485 [==============================] - 22s 45ms/step - loss: 0.0115 - mae: 0.1211 - val_loss: 0.0105 - val_mae: 0.1177\n",
            "Epoch 13/100\n",
            "485/485 [==============================] - 22s 45ms/step - loss: 0.0114 - mae: 0.1205 - val_loss: 0.0104 - val_mae: 0.1173\n",
            "Epoch 14/100\n",
            "485/485 [==============================] - 22s 45ms/step - loss: 0.0113 - mae: 0.1200 - val_loss: 0.0104 - val_mae: 0.1169\n",
            "Epoch 15/100\n",
            "485/485 [==============================] - 22s 46ms/step - loss: 0.0112 - mae: 0.1193 - val_loss: 0.0103 - val_mae: 0.1166\n",
            "Epoch 16/100\n",
            "485/485 [==============================] - 24s 49ms/step - loss: 0.0111 - mae: 0.1191 - val_loss: 0.0102 - val_mae: 0.1161\n",
            "Epoch 17/100\n",
            "485/485 [==============================] - 22s 46ms/step - loss: 0.0110 - mae: 0.1184 - val_loss: 0.0102 - val_mae: 0.1157\n",
            "Epoch 18/100\n",
            "485/485 [==============================] - 24s 50ms/step - loss: 0.0109 - mae: 0.1177 - val_loss: 0.0101 - val_mae: 0.1153\n",
            "Epoch 19/100\n",
            "485/485 [==============================] - 22s 45ms/step - loss: 0.0108 - mae: 0.1175 - val_loss: 0.0101 - val_mae: 0.1149\n",
            "Epoch 20/100\n",
            "485/485 [==============================] - 22s 45ms/step - loss: 0.0108 - mae: 0.1171 - val_loss: 0.0100 - val_mae: 0.1145\n",
            "Epoch 21/100\n",
            "485/485 [==============================] - 22s 45ms/step - loss: 0.0107 - mae: 0.1166 - val_loss: 0.0099 - val_mae: 0.1140\n",
            "Epoch 22/100\n",
            "485/485 [==============================] - 22s 45ms/step - loss: 0.0106 - mae: 0.1162 - val_loss: 0.0099 - val_mae: 0.1136\n",
            "Epoch 23/100\n",
            "485/485 [==============================] - 22s 45ms/step - loss: 0.0105 - mae: 0.1157 - val_loss: 0.0098 - val_mae: 0.1131\n",
            "Epoch 24/100\n",
            "485/485 [==============================] - 22s 45ms/step - loss: 0.0105 - mae: 0.1153 - val_loss: 0.0097 - val_mae: 0.1127\n",
            "Epoch 25/100\n",
            "485/485 [==============================] - 22s 46ms/step - loss: 0.0103 - mae: 0.1147 - val_loss: 0.0097 - val_mae: 0.1122\n",
            "Epoch 26/100\n",
            "485/485 [==============================] - 22s 45ms/step - loss: 0.0103 - mae: 0.1145 - val_loss: 0.0096 - val_mae: 0.1118\n",
            "Epoch 27/100\n",
            "485/485 [==============================] - 22s 45ms/step - loss: 0.0102 - mae: 0.1141 - val_loss: 0.0095 - val_mae: 0.1113\n",
            "Epoch 28/100\n",
            "485/485 [==============================] - 22s 46ms/step - loss: 0.0101 - mae: 0.1135 - val_loss: 0.0094 - val_mae: 0.1109\n",
            "Epoch 29/100\n",
            "485/485 [==============================] - 22s 45ms/step - loss: 0.0101 - mae: 0.1131 - val_loss: 0.0094 - val_mae: 0.1104\n",
            "Epoch 30/100\n",
            "485/485 [==============================] - 22s 45ms/step - loss: 0.0100 - mae: 0.1127 - val_loss: 0.0093 - val_mae: 0.1100\n",
            "Epoch 31/100\n",
            "485/485 [==============================] - 24s 50ms/step - loss: 0.0099 - mae: 0.1120 - val_loss: 0.0092 - val_mae: 0.1095\n",
            "Epoch 32/100\n",
            "485/485 [==============================] - 22s 45ms/step - loss: 0.0098 - mae: 0.1116 - val_loss: 0.0092 - val_mae: 0.1091\n",
            "Epoch 33/100\n",
            "485/485 [==============================] - 22s 45ms/step - loss: 0.0098 - mae: 0.1113 - val_loss: 0.0091 - val_mae: 0.1086\n",
            "Epoch 34/100\n",
            "485/485 [==============================] - 22s 45ms/step - loss: 0.0097 - mae: 0.1109 - val_loss: 0.0091 - val_mae: 0.1082\n",
            "Epoch 35/100\n",
            "485/485 [==============================] - 22s 46ms/step - loss: 0.0096 - mae: 0.1107 - val_loss: 0.0090 - val_mae: 0.1078\n",
            "Epoch 36/100\n",
            "485/485 [==============================] - 22s 45ms/step - loss: 0.0096 - mae: 0.1101 - val_loss: 0.0089 - val_mae: 0.1075\n",
            "Epoch 37/100\n",
            "485/485 [==============================] - 22s 45ms/step - loss: 0.0095 - mae: 0.1097 - val_loss: 0.0089 - val_mae: 0.1072\n",
            "Epoch 38/100\n",
            "485/485 [==============================] - 22s 45ms/step - loss: 0.0094 - mae: 0.1093 - val_loss: 0.0088 - val_mae: 0.1068\n",
            "Epoch 39/100\n",
            "485/485 [==============================] - 22s 46ms/step - loss: 0.0094 - mae: 0.1091 - val_loss: 0.0088 - val_mae: 0.1065\n",
            "Epoch 40/100\n",
            "485/485 [==============================] - 22s 45ms/step - loss: 0.0093 - mae: 0.1087 - val_loss: 0.0088 - val_mae: 0.1062\n",
            "Epoch 41/100\n",
            "485/485 [==============================] - 22s 45ms/step - loss: 0.0092 - mae: 0.1084 - val_loss: 0.0087 - val_mae: 0.1059\n",
            "Epoch 42/100\n",
            "485/485 [==============================] - 22s 46ms/step - loss: 0.0092 - mae: 0.1082 - val_loss: 0.0087 - val_mae: 0.1056\n",
            "Epoch 43/100\n",
            "485/485 [==============================] - 22s 45ms/step - loss: 0.0092 - mae: 0.1077 - val_loss: 0.0086 - val_mae: 0.1053\n",
            "Epoch 44/100\n",
            "485/485 [==============================] - 22s 45ms/step - loss: 0.0091 - mae: 0.1075 - val_loss: 0.0086 - val_mae: 0.1050\n",
            "Epoch 45/100\n",
            "485/485 [==============================] - 22s 45ms/step - loss: 0.0090 - mae: 0.1070 - val_loss: 0.0085 - val_mae: 0.1047\n",
            "Epoch 46/100\n",
            "485/485 [==============================] - 22s 45ms/step - loss: 0.0090 - mae: 0.1067 - val_loss: 0.0085 - val_mae: 0.1044\n",
            "Epoch 47/100\n",
            "485/485 [==============================] - 22s 45ms/step - loss: 0.0089 - mae: 0.1065 - val_loss: 0.0084 - val_mae: 0.1040\n",
            "Epoch 48/100\n",
            "485/485 [==============================] - 22s 45ms/step - loss: 0.0089 - mae: 0.1062 - val_loss: 0.0084 - val_mae: 0.1037\n",
            "Epoch 49/100\n",
            "485/485 [==============================] - 22s 45ms/step - loss: 0.0088 - mae: 0.1057 - val_loss: 0.0083 - val_mae: 0.1033\n",
            "Epoch 50/100\n",
            "485/485 [==============================] - 22s 45ms/step - loss: 0.0088 - mae: 0.1056 - val_loss: 0.0083 - val_mae: 0.1030\n",
            "Epoch 51/100\n",
            "485/485 [==============================] - 22s 44ms/step - loss: 0.0088 - mae: 0.1052 - val_loss: 0.0082 - val_mae: 0.1027\n",
            "Epoch 52/100\n",
            "485/485 [==============================] - 22s 45ms/step - loss: 0.0087 - mae: 0.1051 - val_loss: 0.0082 - val_mae: 0.1023\n",
            "Epoch 53/100\n",
            "485/485 [==============================] - 22s 45ms/step - loss: 0.0087 - mae: 0.1048 - val_loss: 0.0082 - val_mae: 0.1020\n",
            "Epoch 54/100\n",
            "485/485 [==============================] - 22s 45ms/step - loss: 0.0086 - mae: 0.1044 - val_loss: 0.0081 - val_mae: 0.1017\n",
            "Epoch 55/100\n",
            "485/485 [==============================] - 22s 45ms/step - loss: 0.0086 - mae: 0.1041 - val_loss: 0.0081 - val_mae: 0.1014\n",
            "Epoch 56/100\n",
            "485/485 [==============================] - 22s 45ms/step - loss: 0.0085 - mae: 0.1040 - val_loss: 0.0080 - val_mae: 0.1010\n",
            "Epoch 57/100\n",
            "485/485 [==============================] - 23s 46ms/step - loss: 0.0085 - mae: 0.1037 - val_loss: 0.0080 - val_mae: 0.1007\n",
            "Epoch 58/100\n",
            "485/485 [==============================] - 22s 45ms/step - loss: 0.0085 - mae: 0.1035 - val_loss: 0.0079 - val_mae: 0.1004\n",
            "Epoch 59/100\n",
            "485/485 [==============================] - 22s 45ms/step - loss: 0.0084 - mae: 0.1032 - val_loss: 0.0079 - val_mae: 0.1001\n",
            "Epoch 60/100\n",
            "485/485 [==============================] - 22s 45ms/step - loss: 0.0084 - mae: 0.1029 - val_loss: 0.0079 - val_mae: 0.0998\n",
            "Epoch 61/100\n",
            "485/485 [==============================] - 22s 45ms/step - loss: 0.0084 - mae: 0.1027 - val_loss: 0.0078 - val_mae: 0.0995\n",
            "Epoch 62/100\n",
            "485/485 [==============================] - 22s 45ms/step - loss: 0.0083 - mae: 0.1025 - val_loss: 0.0078 - val_mae: 0.0992\n",
            "Epoch 63/100\n",
            "485/485 [==============================] - 22s 45ms/step - loss: 0.0083 - mae: 0.1023 - val_loss: 0.0077 - val_mae: 0.0989\n",
            "Epoch 64/100\n",
            "485/485 [==============================] - 22s 46ms/step - loss: 0.0083 - mae: 0.1020 - val_loss: 0.0077 - val_mae: 0.0986\n",
            "Epoch 65/100\n",
            "485/485 [==============================] - 22s 46ms/step - loss: 0.0082 - mae: 0.1018 - val_loss: 0.0077 - val_mae: 0.0984\n",
            "Epoch 66/100\n",
            "485/485 [==============================] - 22s 45ms/step - loss: 0.0082 - mae: 0.1016 - val_loss: 0.0076 - val_mae: 0.0981\n",
            "Epoch 67/100\n",
            "485/485 [==============================] - 22s 46ms/step - loss: 0.0082 - mae: 0.1013 - val_loss: 0.0076 - val_mae: 0.0978\n",
            "Epoch 68/100\n",
            "485/485 [==============================] - 22s 45ms/step - loss: 0.0081 - mae: 0.1011 - val_loss: 0.0076 - val_mae: 0.0976\n",
            "Epoch 69/100\n",
            "485/485 [==============================] - 22s 45ms/step - loss: 0.0081 - mae: 0.1010 - val_loss: 0.0075 - val_mae: 0.0973\n",
            "Epoch 70/100\n",
            "485/485 [==============================] - 22s 46ms/step - loss: 0.0081 - mae: 0.1008 - val_loss: 0.0075 - val_mae: 0.0971\n",
            "Epoch 71/100\n",
            "485/485 [==============================] - 23s 46ms/step - loss: 0.0080 - mae: 0.1005 - val_loss: 0.0075 - val_mae: 0.0968\n",
            "Epoch 72/100\n",
            "485/485 [==============================] - 22s 45ms/step - loss: 0.0080 - mae: 0.1003 - val_loss: 0.0074 - val_mae: 0.0966\n",
            "Epoch 73/100\n",
            "485/485 [==============================] - 23s 46ms/step - loss: 0.0080 - mae: 0.1003 - val_loss: 0.0074 - val_mae: 0.0964\n",
            "Epoch 74/100\n",
            "484/485 [============================>.] - ETA: 0s - loss: 0.0080 - mae: 0.1000\\MAE dari model < 10% skala data\n",
            "485/485 [==============================] - 22s 45ms/step - loss: 0.0080 - mae: 0.0999 - val_loss: 0.0074 - val_mae: 0.0962\n"
          ]
        }
      ],
      "source": [
        "optimizer = tf.keras.optimizers.SGD(learning_rate=1.0000e-04, momentum=0.9)\n",
        "\n",
        "model.compile(loss=tf.keras.losses.Huber(),\n",
        "              optimizer=optimizer,\n",
        "              metrics=[\"mae\"])\n",
        "\n",
        "history = model.fit(train_set, epochs=100, validation_data=val_set, callbacks=[callbacks])"
      ]
    },
    {
      "cell_type": "markdown",
      "source": [
        "Memvisualisasikan *history* model melalui plotting grafik mae dan loss guna mempermudah evaluasi model secara grafik dengan menggunakan *library* python `Matplotlib`."
      ],
      "metadata": {
        "id": "tMsJtZdCDoyC"
      }
    },
    {
      "cell_type": "code",
      "source": [
        "figure = plt.figure(figsize = (15, 5))\n",
        "\n",
        "figure.add_subplot(1, 2, 1)\n",
        "plt.plot(history.history['mae'])\n",
        "plt.plot(history.history['val_mae'])\n",
        "plt.title('Mae and Validation Mae Plot')\n",
        "plt.xlabel('Value')\n",
        "plt.ylabel('Epoch')\n",
        "plt.legend(['Train', 'Validation'], loc = 'lower right')\n",
        "\n",
        "figure.add_subplot(1, 2, 2)\n",
        "plt.plot(history.history['loss'])\n",
        "plt.plot(history.history['val_loss'])\n",
        "plt.title('Loss Plot')\n",
        "plt.xlabel('Value')\n",
        "plt.ylabel('Epoch')\n",
        "plt.legend(['Train', 'Validation'], loc = 'upper right')\n",
        "\n",
        "plt.show()"
      ],
      "metadata": {
        "colab": {
          "base_uri": "https://localhost:8080/",
          "height": 350
        },
        "id": "A3LAOP34CnPc",
        "outputId": "9da75aec-b00d-488f-a143-8c2ccdeea20f"
      },
      "execution_count": 33,
      "outputs": [
        {
          "output_type": "display_data",
          "data": {
            "text/plain": [
              "<Figure size 1080x360 with 2 Axes>"
            ],
            "image/png": "[encoded data removed]"
          },
          "metadata": {
            "needs_background": "light"
          }
        }
      ]
    }
  ],
  "metadata": {
    "accelerator": "GPU",
    "colab": {
      "name": "Submission-2-BPML-Dicoding.ipynb",
      "provenance": [],
      "collapsed_sections": []
    },
    "kernelspec": {
      "display_name": "Python 3",
      "name": "python3"
    },
    "language_info": {
      "name": "python"
    }
  },
  "nbformat": 4,
  "nbformat_minor": 0
}