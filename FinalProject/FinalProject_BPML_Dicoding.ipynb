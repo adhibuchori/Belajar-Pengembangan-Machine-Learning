{
  "cells": [
    {
      "cell_type": "markdown",
      "metadata": {
        "id": "COWhhnCKSoJX"
      },
      "source": [
        "# Required Libraries"
      ]
    },
    {
      "cell_type": "code",
      "execution_count": 1,
      "metadata": {
        "id": "gzJedO9jSoJX"
      },
      "outputs": [],
      "source": [
        "# Directory\n",
        "import os, zipfile, shutil\n",
        "\n",
        "# Preprocessing and Layer\n",
        "import tensorflow as tf\n",
        "from keras.models import Sequential\n",
        "from keras.layers import Dropout, Flatten, Dense\n",
        "from keras_preprocessing import image\n",
        "from keras.preprocessing.image import ImageDataGenerator\n",
        "from tensorflow.keras.layers import MaxPooling2D, Dense, Dropout, Conv2D\n",
        "\n",
        "# Plotting\n",
        "import matplotlib.pyplot as plt"
      ]
    },
    {
      "cell_type": "markdown",
      "metadata": {
        "id": "3JAl2yFnTNO4"
      },
      "source": [
        "# Dataset Preparation"
      ]
    },
    {
      "cell_type": "markdown",
      "metadata": {
        "id": "LJ4k7_xcTNO5"
      },
      "source": [
        "**Dataset Source**  \n",
        "https://www.kaggle.com/datasets/alessiocorrado99/animals10"
      ]
    },
    {
      "cell_type": "markdown",
      "metadata": {
        "id": "9f29Sn0nTNO6"
      },
      "source": [
        "Install kaggle package."
      ]
    },
    {
      "cell_type": "code",
      "execution_count": 2,
      "metadata": {
        "id": "YfhS2iT-TNO7"
      },
      "outputs": [],
      "source": [
        "!pip install -q kaggle"
      ]
    },
    {
      "cell_type": "markdown",
      "metadata": {
        "id": "jcCFEYdeTNO7"
      },
      "source": [
        "Upload kaggle.json"
      ]
    },
    {
      "cell_type": "code",
      "execution_count": 3,
      "metadata": {
        "colab": {
          "base_uri": "https://localhost:8080/",
          "height": 90,
          "resources": {
            "http://localhost:8080/nbextensions/google.colab/files.js": {
              "data": "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",
              "headers": [
                [
                  "content-type",
                  "application/javascript"
                ]
              ],
              "ok": true,
              "status": 200,
              "status_text": ""
            }
          }
        },
        "id": "nNCuHFb3TNO8",
        "outputId": "eb5804ee-46ad-4196-87e5-5eb64f1d7836"
      },
      "outputs": [
        {
          "output_type": "display_data",
          "data": {
            "text/plain": [
              "<IPython.core.display.HTML object>"
            ],
            "text/html": [
              "\n",
              "     <input type=\"file\" id=\"files-ddac0610-82cb-4beb-bda3-da5b3a1d9cff\" name=\"files[]\" multiple disabled\n",
              "        style=\"border:none\" />\n",
              "     <output id=\"result-ddac0610-82cb-4beb-bda3-da5b3a1d9cff\">\n",
              "      Upload widget is only available when the cell has been executed in the\n",
              "      current browser session. Please rerun this cell to enable.\n",
              "      </output>\n",
              "      <script src=\"/nbextensions/google.colab/files.js\"></script> "
            ]
          },
          "metadata": {}
        },
        {
          "output_type": "stream",
          "name": "stdout",
          "text": [
            "Saving kaggle.json to kaggle.json\n"
          ]
        },
        {
          "output_type": "execute_result",
          "data": {
            "text/plain": [
              "{'kaggle.json': b'{\"username\":\"mochammadadhibuchori\",\"key\":\"e42b6a2ae1ee80ded598c06f563111ef\"}'}"
            ]
          },
          "metadata": {},
          "execution_count": 3
        }
      ],
      "source": [
        "from google.colab import files\n",
        "files.upload()"
      ]
    },
    {
      "cell_type": "markdown",
      "metadata": {
        "id": "6RvrjP9pTNO9"
      },
      "source": [
        "Preparing the directory."
      ]
    },
    {
      "cell_type": "code",
      "execution_count": 4,
      "metadata": {
        "id": "ONihKKU1TNO9"
      },
      "outputs": [],
      "source": [
        "!mkdir ~/.kaggle\n",
        "!cp kaggle.json ~/.kaggle/"
      ]
    },
    {
      "cell_type": "markdown",
      "metadata": {
        "id": "fIFaHbk9TNO-"
      },
      "source": [
        "Download dataset."
      ]
    },
    {
      "cell_type": "code",
      "execution_count": 5,
      "metadata": {
        "colab": {
          "base_uri": "https://localhost:8080/"
        },
        "id": "qX8ukymrTNO-",
        "outputId": "e647a958-6d00-47cc-9e20-da18b93c34d8"
      },
      "outputs": [
        {
          "output_type": "stream",
          "name": "stdout",
          "text": [
            "Warning: Your Kaggle API key is readable by other users on this system! To fix this, you can run 'chmod 600 /root/.kaggle/kaggle.json'\n",
            "Downloading animal10.zip to /content\n",
            " 97% 569M/585M [00:04<00:00, 127MB/s] \n",
            "100% 585M/585M [00:04<00:00, 127MB/s]\n"
          ]
        }
      ],
      "source": [
        "!kaggle datasets download -d viratkothari/animal10"
      ]
    },
    {
      "cell_type": "markdown",
      "metadata": {
        "id": "1K_K3Lo1TNO-"
      },
      "source": [
        "Extract the zip file."
      ]
    },
    {
      "cell_type": "code",
      "execution_count": 6,
      "metadata": {
        "id": "BGWQFBCTTNO_"
      },
      "outputs": [],
      "source": [
        "local_zip = '/content/animal10.zip'\n",
        "zip_ref = zipfile.ZipFile(local_zip, 'r')\n",
        "zip_ref.extractall('/content')\n",
        "zip_ref.close()"
      ]
    },
    {
      "cell_type": "markdown",
      "metadata": {
        "id": "69sWS4XBTNO_"
      },
      "source": [
        "Defines the directory name for the train data and validation data."
      ]
    },
    {
      "cell_type": "code",
      "execution_count": 7,
      "metadata": {
        "colab": {
          "base_uri": "https://localhost:8080/"
        },
        "id": "81eACCOPTNO_",
        "outputId": "9e2bf1c4-dbe1-431a-a962-5552697b4c4f"
      },
      "outputs": [
        {
          "output_type": "stream",
          "name": "stdout",
          "text": [
            "['elephant', 'dog', 'cat', 'sheep', 'chicken', 'cow', 'squirrel', 'spider', 'butterfly', 'horse']\n"
          ]
        }
      ],
      "source": [
        "main_dir = os.path.join('/content/Animals-10')\n",
        "print(os.listdir(main_dir))"
      ]
    },
    {
      "cell_type": "markdown",
      "metadata": {
        "id": "QnAwc2mMThtZ"
      },
      "source": [
        "Delete unneeded folders."
      ]
    },
    {
      "cell_type": "code",
      "execution_count": 8,
      "metadata": {
        "colab": {
          "base_uri": "https://localhost:8080/"
        },
        "id": "1ldrDzsPXMN8",
        "outputId": "7c93cefa-55bf-4d36-e9b2-a350420eefba"
      },
      "outputs": [
        {
          "output_type": "stream",
          "name": "stdout",
          "text": [
            "['dog', 'chicken', 'spider']\n"
          ]
        }
      ],
      "source": [
        "ignore_dir = ['elephant', 'cat', 'sheep', 'cow', 'squirrel', 'butterfly', 'horse']\n",
        "\n",
        "for dir in ignore_dir:\n",
        "  path = os.path.join(main_dir, dir)\n",
        "  shutil.rmtree(path)\n",
        "\n",
        "print(os.listdir(main_dir))"
      ]
    },
    {
      "cell_type": "code",
      "execution_count": 9,
      "metadata": {
        "colab": {
          "base_uri": "https://localhost:8080/"
        },
        "id": "pIupo65jXXAI",
        "outputId": "1ac317a0-e643-4a60-a8e4-c6693fe5c682"
      },
      "outputs": [
        {
          "output_type": "stream",
          "name": "stdout",
          "text": [
            "dog : 4863\n",
            "(225, 300)\n",
            "(300, 188)\n",
            "(278, 300)\n",
            "\n",
            "chicken : 3098\n",
            "(300, 225)\n",
            "(300, 178)\n",
            "(300, 225)\n",
            "\n",
            "spider : 4821\n",
            "(245, 245)\n",
            "(300, 221)\n",
            "(300, 199)\n",
            "\n",
            "Total Sample :  12782\n"
          ]
        }
      ],
      "source": [
        "from PIL import Image\n",
        "samples = 0\n",
        "\n",
        "for x in os.listdir(main_dir):\n",
        "  dir = os.path.join('/content/Animals-10', x)\n",
        "  y = len(os.listdir(dir))\n",
        "  print(x+' :', y)\n",
        "  samples = samples + y\n",
        "  \n",
        "  image_name = os.listdir(dir)\n",
        "  for z in range(3):\n",
        "    image_path = os.path.join(dir, image_name[z])\n",
        "    image = Image.open(image_path)\n",
        "    print(image.size)\n",
        "  print()\n",
        "\n",
        "\n",
        "print('Total Sample : ', samples)"
      ]
    },
    {
      "cell_type": "markdown",
      "metadata": {
        "id": "R4X6jL3oGios"
      },
      "source": [
        "# Split Dataset"
      ]
    },
    {
      "cell_type": "markdown",
      "metadata": {
        "id": "Tuj53SRYJlDb"
      },
      "source": [
        "Splitting the dataset into train sets and validation sets with sizes of 80% and 20%, respectively."
      ]
    },
    {
      "cell_type": "code",
      "execution_count": 10,
      "metadata": {
        "id": "uUytIS_MWgUj"
      },
      "outputs": [],
      "source": [
        "train_datagen = ImageDataGenerator(\n",
        "    rescale=1./255,\n",
        "    rotation_range=20,\n",
        "    horizontal_flip=True,\n",
        "    shear_range = 0.2,\n",
        "    zoom_range = 0.2,\n",
        "    fill_mode = 'nearest',\n",
        "    validation_split = 0.2)"
      ]
    },
    {
      "cell_type": "code",
      "execution_count": 11,
      "metadata": {
        "colab": {
          "base_uri": "https://localhost:8080/"
        },
        "id": "BdeFGxmGWzHr",
        "outputId": "c5a4bfb0-98ff-4e0f-c32e-eaf983cf61c2"
      },
      "outputs": [
        {
          "output_type": "stream",
          "name": "stdout",
          "text": [
            "Found 10227 images belonging to 3 classes.\n",
            "Found 2555 images belonging to 3 classes.\n"
          ]
        }
      ],
      "source": [
        "train_generator = train_datagen.flow_from_directory(\n",
        "    main_dir,\n",
        "    target_size=(150, 150),\n",
        "    batch_size=128,\n",
        "    class_mode='categorical',\n",
        "    subset='training')\n",
        " \n",
        "validation_generator = train_datagen.flow_from_directory(\n",
        "    main_dir,\n",
        "    target_size=(150, 150),\n",
        "    batch_size=128,\n",
        "    class_mode='categorical',\n",
        "    subset='validation')"
      ]
    },
    {
      "cell_type": "markdown",
      "metadata": {
        "id": "ZKg9xARFG3RL"
      },
      "source": [
        "# Callback"
      ]
    },
    {
      "cell_type": "code",
      "execution_count": 12,
      "metadata": {
        "id": "OhA57cRPYyO2"
      },
      "outputs": [],
      "source": [
        "class Callback(tf.keras.callbacks.Callback):\n",
        "  def on_epoch_end(self, epoch, logs={}):\n",
        "    if(logs.get('accuracy') and logs.get('val_accuracy') > 0.92):\n",
        "      print(\"\\n Sorry, data training was stopped because the accuracy rate was above 92%!\")\n",
        "      self.model.stop_training = True\n",
        "\n",
        "callbacks = Callback()"
      ]
    },
    {
      "cell_type": "markdown",
      "metadata": {
        "id": "6ewDcg8YGlvZ"
      },
      "source": [
        "# Prepare CNN Model Architecture\n"
      ]
    },
    {
      "cell_type": "code",
      "execution_count": 13,
      "metadata": {
        "colab": {
          "base_uri": "https://localhost:8080/"
        },
        "id": "IBDtn2T4Xx4e",
        "outputId": "ebb16b55-93a0-4492-c1c1-df87a5059e7e"
      },
      "outputs": [
        {
          "output_type": "stream",
          "name": "stdout",
          "text": [
            "Model: \"sequential\"\n",
            "_________________________________________________________________\n",
            " Layer (type)                Output Shape              Param #   \n",
            "=================================================================\n",
            " conv2d (Conv2D)             (None, 148, 148, 32)      896       \n",
            "                                                                 \n",
            " max_pooling2d (MaxPooling2D  (None, 74, 74, 32)       0         \n",
            " )                                                               \n",
            "                                                                 \n",
            " conv2d_1 (Conv2D)           (None, 72, 72, 64)        18496     \n",
            "                                                                 \n",
            " max_pooling2d_1 (MaxPooling  (None, 36, 36, 64)       0         \n",
            " 2D)                                                             \n",
            "                                                                 \n",
            " conv2d_2 (Conv2D)           (None, 34, 34, 128)       73856     \n",
            "                                                                 \n",
            " max_pooling2d_2 (MaxPooling  (None, 17, 17, 128)      0         \n",
            " 2D)                                                             \n",
            "                                                                 \n",
            " conv2d_3 (Conv2D)           (None, 15, 15, 128)       147584    \n",
            "                                                                 \n",
            " max_pooling2d_3 (MaxPooling  (None, 7, 7, 128)        0         \n",
            " 2D)                                                             \n",
            "                                                                 \n",
            " flatten (Flatten)           (None, 6272)              0         \n",
            "                                                                 \n",
            " dense (Dense)               (None, 512)               3211776   \n",
            "                                                                 \n",
            " dense_1 (Dense)             (None, 3)                 1539      \n",
            "                                                                 \n",
            "=================================================================\n",
            "Total params: 3,454,147\n",
            "Trainable params: 3,454,147\n",
            "Non-trainable params: 0\n",
            "_________________________________________________________________\n"
          ]
        }
      ],
      "source": [
        "model = Sequential()\n",
        "\n",
        "model.add(Conv2D(32, (3,3), activation='relu', input_shape=(150, 150, 3))),\n",
        "model.add(MaxPooling2D(2, 2)),\n",
        "\n",
        "model.add(Conv2D(64, (3,3), activation='relu')),\n",
        "model.add(MaxPooling2D(2,2)),\n",
        "\n",
        "model.add(Conv2D(128, (3,3), activation='relu')),\n",
        "model.add(MaxPooling2D(2,2)),\n",
        "\n",
        "model.add(Conv2D(128, (3,3), activation='relu')),\n",
        "model.add(MaxPooling2D(2,2)),\n",
        "\n",
        "model.add(Flatten()),\n",
        "\n",
        "model.add(Dense(512, activation='relu')),\n",
        "model.add(Dense(3, activation='softmax')),\n",
        "\n",
        "model.summary()"
      ]
    },
    {
      "cell_type": "code",
      "execution_count": 14,
      "metadata": {
        "id": "zQKhIY5gYtZz"
      },
      "outputs": [],
      "source": [
        "model.compile(optimizer=tf.optimizers.Adam(),\n",
        "              loss='categorical_crossentropy',\n",
        "              metrics = ['accuracy'])"
      ]
    },
    {
      "cell_type": "code",
      "execution_count": 15,
      "metadata": {
        "colab": {
          "base_uri": "https://localhost:8080/"
        },
        "id": "Yer67cMXZQX5",
        "outputId": "78a9e0da-cbe7-4522-87e7-4ce66daf4631"
      },
      "outputs": [
        {
          "output_type": "stream",
          "name": "stdout",
          "text": [
            "Epoch 1/50\n",
            "80/80 - 91s - loss: 1.0436 - accuracy: 0.4644 - val_loss: 0.9328 - val_accuracy: 0.6121 - 91s/epoch - 1s/step\n",
            "Epoch 2/50\n",
            "80/80 - 74s - loss: 0.7420 - accuracy: 0.6780 - val_loss: 0.6255 - val_accuracy: 0.7425 - 74s/epoch - 931ms/step\n",
            "Epoch 3/50\n",
            "80/80 - 74s - loss: 0.5853 - accuracy: 0.7580 - val_loss: 0.5678 - val_accuracy: 0.7652 - 74s/epoch - 930ms/step\n",
            "Epoch 4/50\n",
            "80/80 - 77s - loss: 0.4976 - accuracy: 0.8069 - val_loss: 0.4651 - val_accuracy: 0.8223 - 77s/epoch - 961ms/step\n",
            "Epoch 5/50\n",
            "80/80 - 75s - loss: 0.4351 - accuracy: 0.8309 - val_loss: 0.4944 - val_accuracy: 0.8102 - 75s/epoch - 939ms/step\n",
            "Epoch 6/50\n",
            "80/80 - 75s - loss: 0.3903 - accuracy: 0.8548 - val_loss: 0.4599 - val_accuracy: 0.8184 - 75s/epoch - 936ms/step\n",
            "Epoch 7/50\n",
            "80/80 - 75s - loss: 0.3551 - accuracy: 0.8655 - val_loss: 0.4095 - val_accuracy: 0.8517 - 75s/epoch - 943ms/step\n",
            "Epoch 8/50\n",
            "80/80 - 74s - loss: 0.3339 - accuracy: 0.8756 - val_loss: 0.3768 - val_accuracy: 0.8595 - 74s/epoch - 931ms/step\n",
            "Epoch 9/50\n",
            "80/80 - 75s - loss: 0.3212 - accuracy: 0.8802 - val_loss: 0.3753 - val_accuracy: 0.8603 - 75s/epoch - 943ms/step\n",
            "Epoch 10/50\n",
            "80/80 - 74s - loss: 0.3066 - accuracy: 0.8863 - val_loss: 0.3378 - val_accuracy: 0.8783 - 74s/epoch - 930ms/step\n",
            "Epoch 11/50\n",
            "80/80 - 74s - loss: 0.2852 - accuracy: 0.8940 - val_loss: 0.3073 - val_accuracy: 0.8873 - 74s/epoch - 925ms/step\n",
            "Epoch 12/50\n",
            "80/80 - 74s - loss: 0.2861 - accuracy: 0.8936 - val_loss: 0.3719 - val_accuracy: 0.8630 - 74s/epoch - 930ms/step\n",
            "Epoch 13/50\n",
            "80/80 - 74s - loss: 0.2953 - accuracy: 0.8859 - val_loss: 0.3788 - val_accuracy: 0.8607 - 74s/epoch - 928ms/step\n",
            "Epoch 14/50\n",
            "80/80 - 74s - loss: 0.2435 - accuracy: 0.9088 - val_loss: 0.3127 - val_accuracy: 0.8873 - 74s/epoch - 931ms/step\n",
            "Epoch 15/50\n",
            "80/80 - 76s - loss: 0.2485 - accuracy: 0.9056 - val_loss: 0.3194 - val_accuracy: 0.8857 - 76s/epoch - 956ms/step\n",
            "Epoch 16/50\n",
            "80/80 - 75s - loss: 0.2131 - accuracy: 0.9207 - val_loss: 0.3031 - val_accuracy: 0.8932 - 75s/epoch - 939ms/step\n",
            "Epoch 17/50\n",
            "80/80 - 76s - loss: 0.2119 - accuracy: 0.9186 - val_loss: 0.2983 - val_accuracy: 0.8924 - 76s/epoch - 946ms/step\n",
            "Epoch 18/50\n",
            "80/80 - 75s - loss: 0.2146 - accuracy: 0.9226 - val_loss: 0.3062 - val_accuracy: 0.8947 - 75s/epoch - 941ms/step\n",
            "Epoch 19/50\n",
            "80/80 - 74s - loss: 0.1981 - accuracy: 0.9251 - val_loss: 0.2922 - val_accuracy: 0.8904 - 74s/epoch - 930ms/step\n",
            "Epoch 20/50\n",
            "80/80 - 76s - loss: 0.1956 - accuracy: 0.9273 - val_loss: 0.2708 - val_accuracy: 0.9096 - 76s/epoch - 952ms/step\n",
            "Epoch 21/50\n",
            "80/80 - 76s - loss: 0.1737 - accuracy: 0.9343 - val_loss: 0.2960 - val_accuracy: 0.8982 - 76s/epoch - 954ms/step\n",
            "Epoch 22/50\n",
            "80/80 - 76s - loss: 0.1797 - accuracy: 0.9317 - val_loss: 0.2697 - val_accuracy: 0.9080 - 76s/epoch - 952ms/step\n",
            "Epoch 23/50\n",
            "80/80 - 75s - loss: 0.1723 - accuracy: 0.9368 - val_loss: 0.2946 - val_accuracy: 0.9002 - 75s/epoch - 936ms/step\n",
            "Epoch 24/50\n",
            "80/80 - 75s - loss: 0.1554 - accuracy: 0.9406 - val_loss: 0.2938 - val_accuracy: 0.9006 - 75s/epoch - 941ms/step\n",
            "Epoch 25/50\n",
            "80/80 - 75s - loss: 0.1619 - accuracy: 0.9401 - val_loss: 0.2633 - val_accuracy: 0.9112 - 75s/epoch - 933ms/step\n",
            "Epoch 26/50\n",
            "80/80 - 75s - loss: 0.1648 - accuracy: 0.9396 - val_loss: 0.3065 - val_accuracy: 0.9006 - 75s/epoch - 939ms/step\n",
            "Epoch 27/50\n",
            "80/80 - 73s - loss: 0.1581 - accuracy: 0.9405 - val_loss: 0.2579 - val_accuracy: 0.9131 - 73s/epoch - 908ms/step\n",
            "Epoch 28/50\n",
            "80/80 - 73s - loss: 0.1437 - accuracy: 0.9474 - val_loss: 0.2582 - val_accuracy: 0.9092 - 73s/epoch - 907ms/step\n",
            "Epoch 29/50\n",
            "80/80 - 72s - loss: 0.1342 - accuracy: 0.9506 - val_loss: 0.2478 - val_accuracy: 0.9162 - 72s/epoch - 905ms/step\n",
            "Epoch 30/50\n",
            "80/80 - 75s - loss: 0.1277 - accuracy: 0.9537 - val_loss: 0.2436 - val_accuracy: 0.9186 - 75s/epoch - 936ms/step\n",
            "Epoch 31/50\n",
            "80/80 - 75s - loss: 0.1184 - accuracy: 0.9534 - val_loss: 0.2546 - val_accuracy: 0.9155 - 75s/epoch - 932ms/step\n",
            "Epoch 32/50\n",
            "80/80 - 74s - loss: 0.1203 - accuracy: 0.9561 - val_loss: 0.2612 - val_accuracy: 0.9061 - 74s/epoch - 926ms/step\n",
            "Epoch 33/50\n",
            "80/80 - 75s - loss: 0.1120 - accuracy: 0.9596 - val_loss: 0.2733 - val_accuracy: 0.9065 - 75s/epoch - 933ms/step\n",
            "Epoch 34/50\n",
            "80/80 - 74s - loss: 0.1117 - accuracy: 0.9573 - val_loss: 0.2613 - val_accuracy: 0.9178 - 74s/epoch - 922ms/step\n",
            "Epoch 35/50\n",
            "80/80 - 74s - loss: 0.1121 - accuracy: 0.9579 - val_loss: 0.2811 - val_accuracy: 0.9139 - 74s/epoch - 926ms/step\n",
            "Epoch 36/50\n",
            "80/80 - 75s - loss: 0.1041 - accuracy: 0.9611 - val_loss: 0.2816 - val_accuracy: 0.9127 - 75s/epoch - 936ms/step\n",
            "Epoch 37/50\n",
            "80/80 - 73s - loss: 0.0998 - accuracy: 0.9640 - val_loss: 0.2693 - val_accuracy: 0.9186 - 73s/epoch - 917ms/step\n",
            "Epoch 38/50\n",
            "80/80 - 73s - loss: 0.0956 - accuracy: 0.9661 - val_loss: 0.2659 - val_accuracy: 0.9190 - 73s/epoch - 913ms/step\n",
            "Epoch 39/50\n",
            "\n",
            " Sorry, data training was stopped because the accuracy rate was above 92%!\n",
            "80/80 - 75s - loss: 0.0903 - accuracy: 0.9684 - val_loss: 0.2739 - val_accuracy: 0.9202 - 75s/epoch - 938ms/step\n"
          ]
        }
      ],
      "source": [
        "history = model.fit(\n",
        "    train_generator,\n",
        "    epochs=50,\n",
        "    validation_data=validation_generator,\n",
        "    verbose=2,\n",
        "    callbacks=[callbacks])"
      ]
    },
    {
      "cell_type": "markdown",
      "metadata": {
        "id": "Yw39CLqqG9yA"
      },
      "source": [
        "# Plotting"
      ]
    },
    {
      "cell_type": "code",
      "execution_count": 16,
      "metadata": {
        "id": "xuaO19WGZtqN",
        "colab": {
          "base_uri": "https://localhost:8080/",
          "height": 367
        },
        "outputId": "d958d9aa-6dd8-4b0b-f472-5b28dbfc14a7"
      },
      "outputs": [
        {
          "output_type": "execute_result",
          "data": {
            "text/plain": [
              "<matplotlib.legend.Legend at 0x7f4bc0277190>"
            ]
          },
          "metadata": {},
          "execution_count": 16
        },
        {
          "output_type": "display_data",
          "data": {
            "text/plain": [
              "<Figure size 1080x360 with 2 Axes>"
            ],
            "image/png": "[encoded data removed]"
          },
          "metadata": {
            "needs_background": "light"
          }
        }
      ],
      "source": [
        "figure = plt.figure(figsize = (15, 5))\n",
        "\n",
        "figure.add_subplot(1, 2, 1)\n",
        "plt.plot(history.history['accuracy'])\n",
        "plt.plot(history.history['val_accuracy'])\n",
        "plt.title('Accuracy Plot')\n",
        "plt.xlabel('Value')\n",
        "plt.ylabel('Epoch')\n",
        "plt.legend(['Train', 'Validation'], loc = 'lower right')\n",
        "\n",
        "figure.add_subplot(1, 2, 2)\n",
        "plt.plot(history.history['loss'])\n",
        "plt.plot(history.history['val_loss'])\n",
        "plt.title('Loss Plot')\n",
        "plt.xlabel('Value')\n",
        "plt.ylabel('Epoch')\n",
        "plt.legend(['Train', 'Validation'], loc = 'upper right')"
      ]
    },
    {
      "cell_type": "markdown",
      "metadata": {
        "id": "AwrH5bjxGbxG"
      },
      "source": [
        "# TF-Lite Model Preparation"
      ]
    },
    {
      "cell_type": "markdown",
      "metadata": {
        "id": "hA0hSl6QJPzX"
      },
      "source": [
        "Convert the Model to TF-Lite"
      ]
    },
    {
      "cell_type": "code",
      "execution_count": 17,
      "metadata": {
        "id": "VXn0frvdIyfu",
        "colab": {
          "base_uri": "https://localhost:8080/"
        },
        "outputId": "fa2d2f88-826d-458e-8cf4-f33a0816c7f3"
      },
      "outputs": [
        {
          "output_type": "stream",
          "name": "stdout",
          "text": [
            "INFO:tensorflow:Assets written to: /tmp/tmp_kidvm53/assets\n"
          ]
        },
        {
          "output_type": "stream",
          "name": "stderr",
          "text": [
            "WARNING:absl:Buffer deduplication procedure will be skipped when flatbuffer library is not properly loaded\n"
          ]
        }
      ],
      "source": [
        "converter = tf.lite.TFLiteConverter.from_keras_model(model)\n",
        "tflite_model = converter.convert()"
      ]
    },
    {
      "cell_type": "markdown",
      "metadata": {
        "id": "a79BsK24JNuJ"
      },
      "source": [
        "Saving the TF-Lite Model"
      ]
    },
    {
      "cell_type": "code",
      "execution_count": 18,
      "metadata": {
        "id": "yKxpLDplJHZE"
      },
      "outputs": [],
      "source": [
        "# Menyimpan TFlite Model\n",
        "with open('model.tflite', 'wb') as f:\n",
        "  f.write(tflite_model)"
      ]
    }
  ],
  "metadata": {
    "colab": {
      "name": "FinalProject_BPML_Dicoding.ipynb",
      "provenance": []
    },
    "gpuClass": "standard",
    "kernelspec": {
      "display_name": "Python 3",
      "name": "python3"
    },
    "language_info": {
      "name": "python"
    },
    "accelerator": "GPU"
  },
  "nbformat": 4,
  "nbformat_minor": 0
}